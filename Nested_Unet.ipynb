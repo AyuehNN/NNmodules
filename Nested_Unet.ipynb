{
 "cells": [
  {
   "cell_type": "markdown",
   "metadata": {},
   "source": [
    "# Nested U-net"
   ]
  },
  {
   "cell_type": "code",
   "execution_count": 1,
   "metadata": {},
   "outputs": [],
   "source": [
    "import torch\n",
    "from torch import nn"
   ]
  },
  {
   "cell_type": "code",
   "execution_count": 2,
   "metadata": {},
   "outputs": [],
   "source": [
    "class VGGBlock(nn.Module):\n",
    "    def __init__(self, in_channels, middle_channels, out_channels):\n",
    "        super().__init__()\n",
    "        self.relu = nn.ReLU(inplace=True)\n",
    "        self.conv1 = nn.Conv2d(in_channels, middle_channels, 3, padding=1)\n",
    "        self.bn1 = nn.BatchNorm2d(middle_channels)\n",
    "        self.conv2 = nn.Conv2d(middle_channels, out_channels, 3, padding=1)\n",
    "        self.bn2 = nn.BatchNorm2d(out_channels)\n",
    "\n",
    "    def forward(self, x):\n",
    "        out = self.conv1(x)\n",
    "        out = self.bn1(out)\n",
    "        out = self.relu(out)\n",
    "\n",
    "        out = self.conv2(out)\n",
    "        out = self.bn2(out)\n",
    "        out = self.relu(out)\n",
    "\n",
    "        return out\n",
    "    \n",
    "pool = nn.MaxPool2d(2, 2)\n",
    "up = nn.Upsample(scale_factor=2, mode='bilinear', align_corners=True)"
   ]
  },
  {
   "cell_type": "code",
   "execution_count": 3,
   "metadata": {},
   "outputs": [],
   "source": [
    "input_channels = 3\n",
    "input = torch.rand(1, input_channels, 32, 32)\n",
    "\n",
    "nb_filter = [3, 6, 12]\n",
    "\n",
    "x0_0 = VGGBlock(input_channels, nb_filter[0], nb_filter[0])(input)\n",
    "x1_0 = VGGBlock(nb_filter[0], nb_filter[1], nb_filter[1])(pool(x0_0))\n",
    "x0_1 = VGGBlock(nb_filter[0] + nb_filter[1], \n",
    "                nb_filter[0], nb_filter[0])(torch.cat([x0_0, up(x1_0)], 1))\n",
    "\n",
    "x2_0 = VGGBlock(nb_filter[1], nb_filter[2], nb_filter[2])(pool(x1_0))\n",
    "x1_1 = VGGBlock(nb_filter[1] + nb_filter[2], nb_filter[1],\n",
    "                nb_filter[1])(torch.cat([x1_0, up(x2_0)], 1))\n",
    "x0_2 = VGGBlock(nb_filter[0] * 2 + \n",
    "                nb_filter[1], nb_filter[0], nb_filter[0])(torch.cat([x0_0, x0_1, up(x1_1)], 1))\n",
    "\n",
    "# deep_supervision\n",
    "num_classes = 2\n",
    "output1 = nn.Conv2d(nb_filter[0], num_classes, kernel_size=1)(x0_1)\n",
    "output2 = nn.Conv2d(nb_filter[0], num_classes, kernel_size=1)(x0_2)\n",
    "\n"
   ]
  }
 ],
 "metadata": {
  "kernelspec": {
   "display_name": "Python 3",
   "language": "python",
   "name": "python3"
  },
  "language_info": {
   "codemirror_mode": {
    "name": "ipython",
    "version": 3
   },
   "file_extension": ".py",
   "mimetype": "text/x-python",
   "name": "python",
   "nbconvert_exporter": "python",
   "pygments_lexer": "ipython3",
   "version": "3.7.6"
  }
 },
 "nbformat": 4,
 "nbformat_minor": 4
}
