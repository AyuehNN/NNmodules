{
 "cells": [
  {
   "cell_type": "code",
   "execution_count": 1,
   "metadata": {},
   "outputs": [],
   "source": [
    "import torch\n",
    "import torch.nn.functional as F\n",
    "import torch.nn as nn"
   ]
  },
  {
   "cell_type": "code",
   "execution_count": 2,
   "metadata": {},
   "outputs": [],
   "source": [
    "# (N, C, D, H, W)\n",
    "inputs = torch.rand(1, 1, 2, 6, 6)\n",
    "in_channel = 1\n",
    "key_filters = 2\n",
    "value_filters = 2\n",
    "output_filters = 3\n",
    "num_heads = 1\n",
    "dropout_prob = 0.5 \n",
    "layer_type = 'SAME'"
   ]
  },
  {
   "cell_type": "markdown",
   "metadata": {},
   "source": [
    "# QKV transfrom"
   ]
  },
  {
   "cell_type": "code",
   "execution_count": 3,
   "metadata": {},
   "outputs": [
    {
     "name": "stdout",
     "output_type": "stream",
     "text": [
      "q.shape:  torch.Size([1, 2, 2, 6, 6]) \n",
      "k.shape:  torch.Size([1, 2, 2, 6, 6]) \n",
      "v.shape:  torch.Size([1, 2, 2, 6, 6])\n"
     ]
    }
   ],
   "source": [
    "if layer_type == 'SAME':\n",
    "    q = nn.Conv3d(in_channel, key_filters,\n",
    "                           kernel_size=1, stride=1,\n",
    "                           padding=0, bias=True)(inputs)\n",
    "elif layer_type == 'DOWN':\n",
    "    q = nn.Conv3d(in_channel, key_filters,\n",
    "                           kernel_size=3, stride=2,\n",
    "                           padding=1, bias=True)(inputs)\n",
    "elif layer_type == 'UP':\n",
    "    q = nn.ConvTranspose3d(in_channel, key_filters, kernel_size=3, \n",
    "                           stride=2, padding=1, bias=True)(inputs, output_size=(inputs.shape[2] * 2,\n",
    "                                                                                inputs.shape[3] * 2,\n",
    "                                                                                inputs.shape[4] * 2))\n",
    "\n",
    "k = nn.Conv3d(in_channel, key_filters, kernel_size=1, \n",
    "                         stride=1, padding=0, bias=True)(inputs)\n",
    "\n",
    "v = nn.Conv3d(in_channel, key_filters, kernel_size=1, \n",
    "                           stride=1, padding=0, bias=True)(inputs)\n",
    "\n",
    "Batch, Dq, Hq, Wq = q.shape[0], q.shape[2], q.shape[3], q.shape[4]\n",
    "print(\"q.shape: \", q.shape, \"\\nk.shape: \", k.shape, \"\\nv.shape: \", v.shape)\n"
   ]
  },
  {
   "cell_type": "markdown",
   "metadata": {},
   "source": [
    "# Split to Multi Heads"
   ]
  },
  {
   "cell_type": "code",
   "execution_count": 4,
   "metadata": {},
   "outputs": [
    {
     "name": "stdout",
     "output_type": "stream",
     "text": [
      "Switch channel position.\n",
      "q.shape:  torch.Size([1, 2, 6, 6, 2]) \n",
      "k.shape:  torch.Size([1, 2, 6, 6, 2]) \n",
      "v.shape:  torch.Size([1, 2, 6, 6, 2])\n",
      "\n",
      "Split to Multi Heads.\n",
      "q.shape:  torch.Size([1, 2, 6, 6, 1, 2]) \n",
      "k.shape:  torch.Size([1, 2, 6, 6, 1, 2]) \n",
      "v.shape:  torch.Size([1, 2, 6, 6, 1, 2])\n",
      "\n",
      "Flatten to shape (N * D * H * W) x C\n",
      "q.shape:  torch.Size([72, 2]) \n",
      "k.shape:  torch.Size([72, 2]) \n",
      "v.shape torch.Size([72, 2])\n"
     ]
    }
   ],
   "source": [
    "q = q.permute(0, 2, 3, 4, 1)\n",
    "k = k.permute(0, 2, 3, 4, 1)\n",
    "v = v.permute(0, 2, 3, 4, 1)\n",
    "print(\"Switch channel position.\")\n",
    "print(\"q.shape: \", q.shape, \"\\nk.shape: \", k.shape, \"\\nv.shape: \", v.shape)\n",
    "\n",
    "q = q.view(q.shape[0], q.shape[1], q.shape[2], q.shape[3], num_heads,\n",
    "           int(q.shape[-1] / num_heads))\n",
    "\n",
    "k = k.view(k.shape[0], k.shape[1], k.shape[2], k.shape[3], num_heads,\n",
    "           int(k.shape[-1] / num_heads))\n",
    "\n",
    "v = v.view(v.shape[0], v.shape[1], v.shape[2], v.shape[3], num_heads,\n",
    "           int(v.shape[-1] / num_heads))\n",
    "print(\"\\nSplit to Multi Heads.\")\n",
    "print(\"q.shape: \", q.shape, \"\\nk.shape: \", k.shape, \"\\nv.shape: \", v.shape)\n",
    "\n",
    "q = torch.flatten(q, start_dim=0, end_dim=4)\n",
    "k = torch.flatten(k, start_dim=0, end_dim=4)\n",
    "v = torch.flatten(v, start_dim=0, end_dim=4)\n",
    "print(\"\\nFlatten to shape (N * D * H * W) x C\")\n",
    "print(\"q.shape: \", q.shape, \"\\nk.shape: \", k.shape, \"\\nv.shape\", v.shape)"
   ]
  },
  {
   "cell_type": "markdown",
   "metadata": {},
   "source": [
    "# Attention"
   ]
  },
  {
   "cell_type": "code",
   "execution_count": 5,
   "metadata": {},
   "outputs": [
    {
     "name": "stdout",
     "output_type": "stream",
     "text": [
      "Compute softmax(Q * K.Trans) along dim 1.\n",
      "A.shape:  torch.Size([72, 72])\n",
      "\n",
      "Compute matmul(A, v)\n",
      "Out.shape:  torch.Size([72, 2])\n",
      "\n",
      "Combine multi-heads back to shape of Q.\n",
      "Out.shape:  torch.Size([1, 2, 2, 6, 6])\n"
     ]
    }
   ],
   "source": [
    "scale = (key_filters // num_heads) ** 0.5\n",
    "# normalize\n",
    "q = q / scale\n",
    "\n",
    "# attention\n",
    "# [(B, Dq, Hq, Wq, N), (B, D, H, W, N)]\n",
    "A = torch.matmul(q, k.transpose(0, 1))\n",
    "A = torch.softmax(A, dim=1)\n",
    "A = nn.Dropout(dropout_prob)(A)\n",
    "print(\"Compute softmax(Q * K.Trans) along dim 1.\")\n",
    "print(\"A.shape: \", A.shape)\n",
    "\n",
    "# [(B, Dq, Hq, Wq, N), C]\n",
    "out = torch.matmul(A, v)\n",
    "print(\"\\nCompute matmul(A, v)\")\n",
    "print(\"Out.shape: \", out.shape)\n",
    "\n",
    "# [B, Dq, Hq, Wq, C]\n",
    "out = out.view(Batch, Dq, Hq, Wq, v.shape[-1] * num_heads)\n",
    "out = out.permute(0, 4, 1, 2, 3)\n",
    "print(\"\\nCombine multi-heads back to shape of Q.\")\n",
    "print(\"Out.shape: \", out.shape)\n"
   ]
  },
  {
   "cell_type": "markdown",
   "metadata": {},
   "source": [
    "# Output Convolution"
   ]
  },
  {
   "cell_type": "code",
   "execution_count": 6,
   "metadata": {},
   "outputs": [
    {
     "name": "stdout",
     "output_type": "stream",
     "text": [
      "O.shape:  torch.Size([1, 3, 2, 6, 6])\n"
     ]
    }
   ],
   "source": [
    "out = nn.Conv3d(value_filters, output_filters, kernel_size=1, stride=1, padding=0, bias=True)(out)\n",
    "print(\"O.shape: \", out.shape)"
   ]
  }
 ],
 "metadata": {
  "kernelspec": {
   "display_name": "Python 3",
   "language": "python",
   "name": "python3"
  },
  "language_info": {
   "codemirror_mode": {
    "name": "ipython",
    "version": 3
   },
   "file_extension": ".py",
   "mimetype": "text/x-python",
   "name": "python",
   "nbconvert_exporter": "python",
   "pygments_lexer": "ipython3",
   "version": "3.7.6"
  }
 },
 "nbformat": 4,
 "nbformat_minor": 4
}
