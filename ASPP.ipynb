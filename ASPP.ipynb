{
 "cells": [
  {
   "cell_type": "markdown",
   "metadata": {},
   "source": [
    "# ASPP"
   ]
  },
  {
   "cell_type": "code",
   "execution_count": 2,
   "metadata": {},
   "outputs": [],
   "source": [
    "import torch\n",
    "import torch.nn as nn\n",
    "import torch.nn.functional as F"
   ]
  },
  {
   "cell_type": "code",
   "execution_count": 47,
   "metadata": {},
   "outputs": [
    {
     "name": "stdout",
     "output_type": "stream",
     "text": [
      "dilation=1, Output shape: torch.Size([2, 3, 32, 32])\n",
      "\n",
      "dilation=6, Output shape: torch.Size([2, 3, 32, 32])\n",
      "\n",
      "dilation=12, Output shape: torch.Size([2, 3, 32, 32])\n",
      "\n",
      "dilation=18, Output shape: torch.Size([2, 3, 32, 32])\n",
      "\n",
      "global_avg_pool, Output shape: torch.Size([2, 3, 1, 1])\n",
      "\n",
      "global_avg_pool.upsample, Output shape: torch.Size([2, 3, 32, 32])\n",
      "\n",
      "Concatenate:  torch.Size([2, 15, 32, 32])\n",
      "\n",
      "Output:  torch.Size([2, 3, 32, 32])\n"
     ]
    }
   ],
   "source": [
    "# (N, C, H, W)\n",
    "inplanes = 3\n",
    "input = torch.rand(2, inplanes, 32, 32)\n",
    "dilation = [1, 6, 12, 18]\n",
    "\n",
    "\n",
    "aspp1 = nn.Conv2d(inplanes, 3, kernel_size=1, stride=1, padding=0,\n",
    "                  dilation=dilation[0], bias=False)(input)\n",
    "aspp1 = nn.BatchNorm2d(3)(aspp1)\n",
    "aspp1 = nn.ReLU()(aspp1)\n",
    "\n",
    "aspp2 = nn.Conv2d(inplanes, 3, kernel_size=3, stride=1, padding=dilation[1],\n",
    "                  dilation=dilation[1], bias=False)(input)\n",
    "aspp2 = nn.BatchNorm2d(3)(aspp2)\n",
    "aspp2 = nn.ReLU()(aspp2)\n",
    "\n",
    "aspp3 = nn.Conv2d(inplanes, 3, kernel_size=3, stride=1, padding=dilation[2],\n",
    "                  dilation=dilation[2], bias=False)(input)\n",
    "aspp3 = nn.BatchNorm2d(3)(aspp3)\n",
    "aspp3 = nn.ReLU()(aspp3)\n",
    "\n",
    "aspp4 = nn.Conv2d(inplanes, 3, kernel_size=3, stride=1, padding=dilation[3],\n",
    "                  dilation=dilation[3], bias=False)(input)\n",
    "aspp4 = nn.BatchNorm2d(3)(aspp4)\n",
    "aspp4 = nn.ReLU()(aspp4)\n",
    "\n",
    "global_avg_pool = nn.Sequential(nn.AdaptiveAvgPool2d((1, 1)),\n",
    "                               nn.Conv2d(inplanes, 3, 1, stride=1, bias=False),\n",
    "                               nn.BatchNorm2d(3),\n",
    "                               nn.ReLU())(input)\n",
    "print(\"dilation={}, Output shape: {}\".format(dilation[0], aspp1.shape),\n",
    "      \"dilation={}, Output shape: {}\".format(dilation[1], aspp1.shape),\n",
    "      \"dilation={}, Output shape: {}\".format(dilation[2], aspp1.shape),\n",
    "      \"dilation={}, Output shape: {}\".format(dilation[3], aspp1.shape),\n",
    "      \"global_avg_pool, Output shape: {}\".format(global_avg_pool.shape), sep=\"\\n\\n\")\n",
    "\n",
    "global_avg_pool = F.interpolate(global_avg_pool,\n",
    "                                size=aspp4.size()[2:],\n",
    "                                mode='bilinear',\n",
    "                                align_corners=True)\n",
    "\n",
    "print(\"\\nglobal_avg_pool.upsample, Output shape: {}\".format(global_avg_pool.shape))\n",
    "\n",
    "x = torch.cat((aspp1, aspp2, aspp3, aspp4, global_avg_pool), dim=1)\n",
    "print(\"\\nConcatenate: \", x.shape)\n",
    "\n",
    "out = nn.Conv2d(15, 3, 1, bias=False)(x)\n",
    "out = nn.BatchNorm2d(3)(out)\n",
    "out = nn.ReLU()(out)\n",
    "\n",
    "print(\"\\nOutput: \", out.shape)"
   ]
  },
  {
   "cell_type": "code",
   "execution_count": null,
   "metadata": {},
   "outputs": [],
   "source": []
  }
 ],
 "metadata": {
  "kernelspec": {
   "display_name": "Python 3",
   "language": "python",
   "name": "python3"
  },
  "language_info": {
   "codemirror_mode": {
    "name": "ipython",
    "version": 3
   },
   "file_extension": ".py",
   "mimetype": "text/x-python",
   "name": "python",
   "nbconvert_exporter": "python",
   "pygments_lexer": "ipython3",
   "version": "3.7.6"
  }
 },
 "nbformat": 4,
 "nbformat_minor": 4
}
