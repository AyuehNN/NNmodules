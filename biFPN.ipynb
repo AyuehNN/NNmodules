{
 "cells": [
  {
   "cell_type": "markdown",
   "metadata": {},
   "source": [
    "# biFPN"
   ]
  },
  {
   "cell_type": "code",
   "execution_count": 1,
   "metadata": {},
   "outputs": [],
   "source": [
    "import torch\n",
    "import torch.nn as nn\n",
    "import torch.nn.functional as F\n",
    "import math"
   ]
  },
  {
   "cell_type": "code",
   "execution_count": 2,
   "metadata": {},
   "outputs": [],
   "source": [
    "c0 = torch.randn([1, 2, 64, 64])\n",
    "c1 = torch.randn([1, 4, 32, 32])\n",
    "c2 = torch.randn([1, 8, 16, 16])\n",
    "epsilon = 0.0001\n",
    "W_bifpn = 3\n",
    "input = [c0, c1, c2]"
   ]
  },
  {
   "cell_type": "code",
   "execution_count": 3,
   "metadata": {},
   "outputs": [
    {
     "data": {
      "text/plain": [
       "(torch.Size([1, 3, 64, 64]),\n",
       " torch.Size([1, 3, 32, 32]),\n",
       " torch.Size([1, 3, 16, 16]))"
      ]
     },
     "execution_count": 3,
     "metadata": {},
     "output_type": "execute_result"
    }
   ],
   "source": [
    "# P2 intermediate\n",
    "P2_td  = nn.Conv2d(8, W_bifpn, kernel_size=3,\n",
    "                   stride=1, bias=True, padding=1)(input[2])\n",
    "\n",
    "# P2 intermediate_upsample\n",
    "p2_upsample = nn.Upsample(scale_factor=2, mode='nearest')(P2_td)\n",
    "\n",
    "# P1 intermediate_input\n",
    "P1_td_inp = nn.Conv2d(4, W_bifpn, kernel_size=3,\n",
    "                      stride=1, bias=True, padding=1)(input[1])\n",
    "\n",
    "# P1 intermediate\n",
    "# Attention weights: Fast normalized fusion\n",
    "p1_td_w = torch.rand(2, dtype=torch.float, requires_grad=True)\n",
    "P1_td = nn.Conv2d(W_bifpn, W_bifpn, kernel_size=3,\n",
    "                  stride=1, bias=True, padding=1)((p1_td_w[0] * P1_td_inp + \n",
    "                                                   p1_td_w[1] * p2_upsample) /\n",
    "                                                  (p1_td_w[0] + p1_td_w[1] + epsilon))\n",
    "P1_td = nn.ReLU()(P1_td)\n",
    "P1_td = nn.BatchNorm2d(W_bifpn)(P1_td)\n",
    "\n",
    "# P1 intermediate_upsample\n",
    "p1_upsample = nn.Upsample(scale_factor=2, mode='nearest')(P1_td)\n",
    "\n",
    "# P0 intermediate\n",
    "P0_td  = nn.Conv2d(2, W_bifpn, kernel_size=3,\n",
    "                   stride=1, bias=True, padding=1)(input[0])\n",
    "\n",
    "# P0 output\n",
    "# Attention weights: Fast normalized fusion\n",
    "p0_out_w = torch.rand(2, dtype=torch.float, requires_grad=True)\n",
    "P0_out = nn.Conv2d(W_bifpn, W_bifpn, kernel_size=3,\n",
    "                   stride=1, bias=True, padding=1)((p0_out_w[0] * P0_td +\n",
    "                                                    p0_out_w[1] * p1_upsample) /\n",
    "                                                   (p0_out_w[0] + p0_out_w[1] + epsilon))\n",
    "P0_out = nn.ReLU()(P0_out)\n",
    "P0_out = nn.BatchNorm2d(W_bifpn)(P0_out)\n",
    "\n",
    "# P0 output_downsample\n",
    "p0_downsample = nn.MaxPool2d(kernel_size=2)(P0_out)\n",
    "\n",
    "# P1 output\n",
    "# Attention weights: Fast normalized fusion\n",
    "p1_out_w = torch.rand(3, dtype=torch.float, requires_grad=True)\n",
    "P1_out = nn.Conv2d(W_bifpn, W_bifpn, kernel_size=3,\n",
    "                   stride=1, bias=True, padding=1)((p1_out_w[0] * P1_td_inp + \n",
    "                                                    p1_out_w[1] * P1_td +\n",
    "                                                    p1_out_w[2] * p0_downsample) /\n",
    "                                                   (p1_out_w[0] + p1_out_w[1] + p1_out_w[2] + epsilon))\n",
    "P1_out = nn.ReLU()(P1_out)\n",
    "P1_out = nn.BatchNorm2d(W_bifpn)(P1_out)\n",
    "\n",
    "# P1 output_downsample\n",
    "P1_out_downsample = nn.MaxPool2d(kernel_size=2)(P1_out)\n",
    "\n",
    "# P2 output\n",
    "# Attention weights: Fast normalized fusion\n",
    "p2_out_w = torch.rand(2, dtype=torch.float, requires_grad=True)\n",
    "P2_out = nn.Conv2d(W_bifpn, W_bifpn, kernel_size=3,\n",
    "                   stride=1, bias=True, padding=1)((p2_out_w[0] * P2_td + \n",
    "                                                    p2_out_w[1] * P1_out_downsample) /\n",
    "                                                   (p1_out_w[0] + p1_out_w[1] + epsilon))\n",
    "P2_out = nn.ReLU()(P2_out)\n",
    "P2_out = nn.BatchNorm2d(W_bifpn)(P2_out)\n",
    "\n",
    "# Final output\n",
    "output = [P0_out, P1_out, P2_out]\n",
    "output[0].shape, output[1].shape, output[2].shape"
   ]
  }
 ],
 "metadata": {
  "kernelspec": {
   "display_name": "Python 3",
   "language": "python",
   "name": "python3"
  },
  "language_info": {
   "codemirror_mode": {
    "name": "ipython",
    "version": 3
   },
   "file_extension": ".py",
   "mimetype": "text/x-python",
   "name": "python",
   "nbconvert_exporter": "python",
   "pygments_lexer": "ipython3",
   "version": "3.7.6"
  }
 },
 "nbformat": 4,
 "nbformat_minor": 4
}
